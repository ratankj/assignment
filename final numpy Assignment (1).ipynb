{
 "cells": [
  {
   "cell_type": "markdown",
   "id": "583b8d13",
   "metadata": {},
   "source": [
    "# numpy assignment"
   ]
  },
  {
   "cell_type": "code",
   "execution_count": null,
   "id": "0369aec0",
   "metadata": {},
   "outputs": [],
   "source": []
  },
  {
   "cell_type": "code",
   "execution_count": null,
   "id": "b81886ff",
   "metadata": {},
   "outputs": [],
   "source": []
  },
  {
   "cell_type": "code",
   "execution_count": 1,
   "id": "b0b4ad33",
   "metadata": {},
   "outputs": [],
   "source": [
    "#1. Create a list named ‘myList’ that is having the following elements: 10,20,30,’apple’, True,8.10.\n",
    "    #a. Now in the ‘myList’, append these values: 30,40\n",
    "    #b. After that reverse the elements of the ‘myList’ and store that in ‘reversedList’"
   ]
  },
  {
   "cell_type": "code",
   "execution_count": 2,
   "id": "717a495e",
   "metadata": {},
   "outputs": [],
   "source": [
    "#1.\n",
    "mylist=[10,20,30,\"apple\",True,8.10]\n",
    "#mylist.append(30,40)\n",
    "mylist.extend([30,40])"
   ]
  },
  {
   "cell_type": "code",
   "execution_count": 3,
   "id": "2270a174",
   "metadata": {},
   "outputs": [
    {
     "data": {
      "text/plain": [
       "[10, 20, 30, 'apple', True, 8.1, 30, 40]"
      ]
     },
     "execution_count": 3,
     "metadata": {},
     "output_type": "execute_result"
    }
   ],
   "source": [
    "mylist"
   ]
  },
  {
   "cell_type": "code",
   "execution_count": 4,
   "id": "7b17e919",
   "metadata": {},
   "outputs": [],
   "source": [
    "mylistreverse=mylist.reverse()"
   ]
  },
  {
   "cell_type": "code",
   "execution_count": 5,
   "id": "c3b581ce",
   "metadata": {},
   "outputs": [],
   "source": [
    "mylistreverse"
   ]
  },
  {
   "cell_type": "code",
   "execution_count": 6,
   "id": "860422c4",
   "metadata": {},
   "outputs": [
    {
     "data": {
      "text/plain": [
       "[10, 20, 30, 'apple', True, 8.1, 30, 40]"
      ]
     },
     "execution_count": 6,
     "metadata": {},
     "output_type": "execute_result"
    }
   ],
   "source": [
    "mylist[::-1]"
   ]
  },
  {
   "cell_type": "code",
   "execution_count": null,
   "id": "7780870c",
   "metadata": {},
   "outputs": [],
   "source": []
  },
  {
   "cell_type": "code",
   "execution_count": 7,
   "id": "ad8d3a8e",
   "metadata": {},
   "outputs": [],
   "source": [
    "#2. Create a dictonary with key values as 1,2,3 and the values as ‘data’,’information’, and ‘text’.\n",
    "    #a. After that eliminate the ‘text’ value form the dictonary.\n",
    "    #b. Add ‘features’ in the dictonary.\n",
    "    #c. Fetch the ‘data’ element from the dictonary and display it in the output"
   ]
  },
  {
   "cell_type": "code",
   "execution_count": 8,
   "id": "c8733e4e",
   "metadata": {},
   "outputs": [
    {
     "name": "stdout",
     "output_type": "stream",
     "text": [
      "{1: 'data', 2: 'Infomation', 3: 'text'}\n"
     ]
    }
   ],
   "source": [
    "#2.\n",
    "d={1:\"data\",2:\"Infomation\",3:\"text\"}\n",
    "print(d)"
   ]
  },
  {
   "cell_type": "code",
   "execution_count": 9,
   "id": "4c653f89",
   "metadata": {},
   "outputs": [
    {
     "data": {
      "text/plain": [
       "'text'"
      ]
     },
     "execution_count": 9,
     "metadata": {},
     "output_type": "execute_result"
    }
   ],
   "source": [
    "d.pop(3)"
   ]
  },
  {
   "cell_type": "code",
   "execution_count": 10,
   "id": "118e6243",
   "metadata": {},
   "outputs": [
    {
     "name": "stdout",
     "output_type": "stream",
     "text": [
      "{1: 'data', 2: 'Infomation'}\n"
     ]
    }
   ],
   "source": [
    "print(d)"
   ]
  },
  {
   "cell_type": "code",
   "execution_count": 11,
   "id": "64648383",
   "metadata": {},
   "outputs": [],
   "source": [
    "d[3]=\"features\""
   ]
  },
  {
   "cell_type": "code",
   "execution_count": 12,
   "id": "123222ab",
   "metadata": {},
   "outputs": [
    {
     "name": "stdout",
     "output_type": "stream",
     "text": [
      "{1: 'data', 2: 'Infomation', 3: 'features'}\n"
     ]
    }
   ],
   "source": [
    "print(d)"
   ]
  },
  {
   "cell_type": "code",
   "execution_count": 13,
   "id": "37e1937e",
   "metadata": {},
   "outputs": [],
   "source": [
    "x=d.get(1)"
   ]
  },
  {
   "cell_type": "code",
   "execution_count": 14,
   "id": "63e0bdd8",
   "metadata": {},
   "outputs": [
    {
     "data": {
      "text/plain": [
       "'data'"
      ]
     },
     "execution_count": 14,
     "metadata": {},
     "output_type": "execute_result"
    }
   ],
   "source": [
    "x"
   ]
  },
  {
   "cell_type": "code",
   "execution_count": 15,
   "id": "e01aa336",
   "metadata": {},
   "outputs": [
    {
     "data": {
      "text/plain": [
       "'data'"
      ]
     },
     "execution_count": 15,
     "metadata": {},
     "output_type": "execute_result"
    }
   ],
   "source": [
    "d[1]"
   ]
  },
  {
   "cell_type": "code",
   "execution_count": null,
   "id": "aca06092",
   "metadata": {},
   "outputs": [],
   "source": []
  },
  {
   "cell_type": "code",
   "execution_count": 16,
   "id": "6c23ef1f",
   "metadata": {},
   "outputs": [],
   "source": [
    "#3. Create a tuple and add these elements 1,2,3,apple,mango in ‘my_tuple"
   ]
  },
  {
   "cell_type": "code",
   "execution_count": 17,
   "id": "84c11b4d",
   "metadata": {},
   "outputs": [
    {
     "data": {
      "text/plain": [
       "(1, 2, 3, 'apple', 'mango')"
      ]
     },
     "execution_count": 17,
     "metadata": {},
     "output_type": "execute_result"
    }
   ],
   "source": [
    "#3.\n",
    "mytuple=(1,2,3,\"apple\",\"mango\")\n",
    "mytuple"
   ]
  },
  {
   "cell_type": "code",
   "execution_count": null,
   "id": "3e17dea5",
   "metadata": {},
   "outputs": [],
   "source": []
  },
  {
   "cell_type": "code",
   "execution_count": 18,
   "id": "2765d4d4",
   "metadata": {},
   "outputs": [],
   "source": [
    "#4. Create another tuple named numeric_tuple consisting of only integer values 10,20,30,40,50\n",
    "    #a. Find the minimum value from the numeric_tuple.\n",
    "    #b. Concatenate my_tuple with numeric_tuple and store the result in r1.\n",
    "    #c. Duplicate the tuple named my_tuple 2 times and store that in ‘newdupli’."
   ]
  },
  {
   "cell_type": "code",
   "execution_count": 19,
   "id": "3b786c1e",
   "metadata": {},
   "outputs": [],
   "source": [
    "#4.\n",
    "ntuple=(10,20,30,40,50)"
   ]
  },
  {
   "cell_type": "code",
   "execution_count": 20,
   "id": "e042cf13",
   "metadata": {},
   "outputs": [
    {
     "name": "stdout",
     "output_type": "stream",
     "text": [
      "10\n"
     ]
    }
   ],
   "source": [
    "print(min(ntuple))"
   ]
  },
  {
   "cell_type": "code",
   "execution_count": 21,
   "id": "c2967f77",
   "metadata": {},
   "outputs": [],
   "source": [
    "r1=mytuple+ntuple"
   ]
  },
  {
   "cell_type": "code",
   "execution_count": 22,
   "id": "a64e4a29",
   "metadata": {},
   "outputs": [
    {
     "name": "stdout",
     "output_type": "stream",
     "text": [
      "(1, 2, 3, 'apple', 'mango', 10, 20, 30, 40, 50)\n"
     ]
    }
   ],
   "source": [
    "print(r1)"
   ]
  },
  {
   "cell_type": "code",
   "execution_count": 23,
   "id": "e8a9375a",
   "metadata": {},
   "outputs": [],
   "source": [
    "x=mytuple*2"
   ]
  },
  {
   "cell_type": "code",
   "execution_count": 24,
   "id": "5d2b3fa0",
   "metadata": {},
   "outputs": [
    {
     "name": "stdout",
     "output_type": "stream",
     "text": [
      "(1, 2, 3, 'apple', 'mango', 1, 2, 3, 'apple', 'mango')\n"
     ]
    }
   ],
   "source": [
    "print(x)"
   ]
  },
  {
   "cell_type": "code",
   "execution_count": null,
   "id": "6227a38a",
   "metadata": {},
   "outputs": [],
   "source": []
  },
  {
   "cell_type": "code",
   "execution_count": 25,
   "id": "af54ff8e",
   "metadata": {},
   "outputs": [],
   "source": [
    "#5. Create 2 sets with name set1 and set2, where set1 contains{1,2,3,4,5} and set2 to contains{2,3,7,6,1}\n",
    "    #a. Perform the below operation:\n",
    "    #a. set1 union set2\n",
    "    #b. set1 intersection set2\n",
    "    #c. set1 difference set2"
   ]
  },
  {
   "cell_type": "code",
   "execution_count": 26,
   "id": "8f98bdb8",
   "metadata": {},
   "outputs": [],
   "source": [
    "#5.\n",
    "set1={1,2,3,4,5}\n",
    "set2={2,3,7,6,1}\n",
    "a=set1.union(set2)\n"
   ]
  },
  {
   "cell_type": "code",
   "execution_count": 27,
   "id": "3514e0d6",
   "metadata": {},
   "outputs": [
    {
     "name": "stdout",
     "output_type": "stream",
     "text": [
      "{1, 2, 3, 4, 5, 6, 7}\n"
     ]
    }
   ],
   "source": [
    "print(a)"
   ]
  },
  {
   "cell_type": "code",
   "execution_count": 28,
   "id": "a11f6172",
   "metadata": {},
   "outputs": [],
   "source": [
    "b=set1.intersection(set2)"
   ]
  },
  {
   "cell_type": "code",
   "execution_count": 29,
   "id": "59665a6b",
   "metadata": {},
   "outputs": [
    {
     "name": "stdout",
     "output_type": "stream",
     "text": [
      "{1, 2, 3}\n"
     ]
    }
   ],
   "source": [
    "print(b)"
   ]
  },
  {
   "cell_type": "code",
   "execution_count": 30,
   "id": "e2ca1964",
   "metadata": {},
   "outputs": [
    {
     "name": "stdout",
     "output_type": "stream",
     "text": [
      "{4, 5}\n"
     ]
    }
   ],
   "source": [
    "c=set1.difference(set2)\n",
    "print(c)"
   ]
  },
  {
   "cell_type": "code",
   "execution_count": null,
   "id": "95326818",
   "metadata": {},
   "outputs": [],
   "source": []
  },
  {
   "cell_type": "markdown",
   "id": "a8f54de5",
   "metadata": {},
   "source": [
    "# 2nd file"
   ]
  },
  {
   "cell_type": "code",
   "execution_count": null,
   "id": "0231d5d6",
   "metadata": {},
   "outputs": [],
   "source": []
  },
  {
   "cell_type": "code",
   "execution_count": 31,
   "id": "53252cee",
   "metadata": {},
   "outputs": [],
   "source": [
    "#1. Create a function that takes dimensions as tuples e.g.(3, 3) and a numeric value and returns a\n",
    "#Numpy array of the given dimension filled with the given value e.g.: solve((3, 3), 5) will return\n",
    "#[\n",
    " #[5, 5, 5],\n",
    " #[5, 5, 5],\n",
    " #[5, 5, 5]\n",
    "#]\n"
   ]
  },
  {
   "cell_type": "code",
   "execution_count": 32,
   "id": "b8396746",
   "metadata": {},
   "outputs": [
    {
     "name": "stdout",
     "output_type": "stream",
     "text": [
      "3\n",
      "3\n",
      "[[5 5 5]\n",
      " [5 5 5]\n",
      " [5 5 5]]\n"
     ]
    }
   ],
   "source": [
    "import numpy as np\n",
    "def abc():\n",
    "    y=[]\n",
    "    for i in range(2):\n",
    "        y.append(int(input()))\n",
    "    x=tuple(y)\n",
    "    b=np.full(x,5)\n",
    "    return b\n",
    "print(abc())    "
   ]
  },
  {
   "cell_type": "code",
   "execution_count": null,
   "id": "c1ebbc38",
   "metadata": {},
   "outputs": [],
   "source": []
  },
  {
   "cell_type": "code",
   "execution_count": 33,
   "id": "d5ca0623",
   "metadata": {},
   "outputs": [],
   "source": [
    "#2. Create a method that takes n Numpy arrays of same dimensions sums them and return the answer."
   ]
  },
  {
   "cell_type": "code",
   "execution_count": 34,
   "id": "5dc4e799",
   "metadata": {},
   "outputs": [
    {
     "name": "stdout",
     "output_type": "stream",
     "text": [
      "[ 5  7  9 12 14]\n"
     ]
    }
   ],
   "source": [
    "##2.:\n",
    "def add(c,d):\n",
    "    f=np.add(c,d)\n",
    "    return f\n",
    "c=np.array([1,2,3,4,5])\n",
    "d=np.array([4,5,6,8,9])\n",
    "print(add(c,d))"
   ]
  },
  {
   "cell_type": "code",
   "execution_count": null,
   "id": "efcd6b02",
   "metadata": {},
   "outputs": [],
   "source": []
  },
  {
   "cell_type": "code",
   "execution_count": 35,
   "id": "a6ec5332",
   "metadata": {},
   "outputs": [],
   "source": [
    "#3. Given a 2 D Array of N X M Dimension, Write a function that accepts this array as well as two\n",
    "#numbers N and M. The method should return the top-left N X M sub matrix e.g:\n",
    " #[\n",
    " #[1, 2, 3],\n",
    " #[4, 5, 6],\n",
    " #[7, 8, 9],\n",
    " #]\n",
    "#top_left_sub_matrix (matrix, 2, 2) -> should return:\n",
    " #[\n",
    " #[1, 2]\n",
    " #[4, 5]\n",
    " #]"
   ]
  },
  {
   "cell_type": "code",
   "execution_count": 36,
   "id": "42eb56dc",
   "metadata": {},
   "outputs": [],
   "source": [
    "#3.\n",
    "m=np.array([1,2,3,4,5,6,7,8,9])\n",
    "x=m.reshape(3,3)"
   ]
  },
  {
   "cell_type": "code",
   "execution_count": 37,
   "id": "e213246e",
   "metadata": {},
   "outputs": [
    {
     "name": "stdout",
     "output_type": "stream",
     "text": [
      "[[1 2 3]\n",
      " [4 5 6]\n",
      " [7 8 9]]\n"
     ]
    }
   ],
   "source": [
    "print(x)"
   ]
  },
  {
   "cell_type": "code",
   "execution_count": 38,
   "id": "5020a9fa",
   "metadata": {},
   "outputs": [
    {
     "name": "stdout",
     "output_type": "stream",
     "text": [
      "[[1 2]\n",
      " [4 5]]\n",
      "None\n"
     ]
    }
   ],
   "source": [
    "def top_left(m,a,b):\n",
    "    print(m[:a,:b])\n",
    "print(top_left(x,2,2))\n",
    "    "
   ]
  },
  {
   "cell_type": "code",
   "execution_count": null,
   "id": "9303b03d",
   "metadata": {},
   "outputs": [],
   "source": []
  },
  {
   "cell_type": "code",
   "execution_count": 39,
   "id": "4aca63dd",
   "metadata": {},
   "outputs": [],
   "source": [
    "#4. Given a 2 D Array of N X M Dimension, Write a function that accepts this array as well as two\n",
    "#numbers N and M The method should return the bottom-right N X M sub matrix e.g.:\n",
    "# [\n",
    " #[1, 2, 3],\n",
    " #[4, 5, 6],\n",
    " #[7, 8, 9],\n",
    " #]\n",
    "#sub_matrix(matrix, 1, 1) -> should return : (Keep in mind these arrays are zero indexed)\n",
    "# [\n",
    " #[5, 6]\n",
    " #[8, 9]\n",
    " #]"
   ]
  },
  {
   "cell_type": "code",
   "execution_count": 40,
   "id": "c2126a29",
   "metadata": {},
   "outputs": [
    {
     "name": "stdout",
     "output_type": "stream",
     "text": [
      "[[5 6]\n",
      " [8 9]]\n",
      "None\n"
     ]
    }
   ],
   "source": [
    "#4.\n",
    "def top_left(m,a,b):\n",
    "    print(m[a:,b:])\n",
    "print(top_left(x,1,1))\n",
    "\n"
   ]
  },
  {
   "cell_type": "code",
   "execution_count": null,
   "id": "058fb0e5",
   "metadata": {},
   "outputs": [],
   "source": []
  },
  {
   "cell_type": "code",
   "execution_count": 41,
   "id": "679d5b4a",
   "metadata": {},
   "outputs": [],
   "source": [
    "#5. Given a 1 D Numpy Array. Write a function that accepts this array as parameters. The method\n",
    "#should return a dictionary with 'mean' and 'std_dev' as key and array's mean and array's\n",
    "#standard deviation as values:\n",
    "# [1, 1, 1]\n",
    "#solution(arr) -> should return :\n",
    "# {'mean': 1.0, 'std_dev': 0.0}"
   ]
  },
  {
   "cell_type": "code",
   "execution_count": 42,
   "id": "29af38d9",
   "metadata": {},
   "outputs": [],
   "source": [
    "#5.\n",
    "def abc(n):\n",
    "    a=np.mean(n)\n",
    "    b=np.std(n)\n",
    "    d={\"mean\":a,\"std\":b}\n",
    "    return d\n",
    "n=np.array([7,5,3,1])\n"
   ]
  },
  {
   "cell_type": "code",
   "execution_count": 43,
   "id": "3ee2ed5f",
   "metadata": {},
   "outputs": [
    {
     "name": "stdout",
     "output_type": "stream",
     "text": [
      "{'mean': 4.0, 'std': 2.23606797749979}\n"
     ]
    }
   ],
   "source": [
    "print(abc(n))"
   ]
  },
  {
   "cell_type": "code",
   "execution_count": null,
   "id": "d1e260d8",
   "metadata": {},
   "outputs": [],
   "source": []
  },
  {
   "cell_type": "code",
   "execution_count": null,
   "id": "d89234ee",
   "metadata": {},
   "outputs": [],
   "source": []
  },
  {
   "cell_type": "markdown",
   "id": "43e1ebaa",
   "metadata": {},
   "source": [
    "# 3rd file"
   ]
  },
  {
   "cell_type": "code",
   "execution_count": null,
   "id": "d06bf1c0",
   "metadata": {},
   "outputs": [],
   "source": []
  },
  {
   "cell_type": "code",
   "execution_count": 44,
   "id": "63ef6c3d",
   "metadata": {},
   "outputs": [],
   "source": [
    "#1. Create a 3x3 matrix array with values ranging from 2 to 10"
   ]
  },
  {
   "cell_type": "code",
   "execution_count": 45,
   "id": "9f857e5f",
   "metadata": {},
   "outputs": [
    {
     "name": "stdout",
     "output_type": "stream",
     "text": [
      "[ 2  3  4  5  6  7  8  9 10]\n"
     ]
    },
    {
     "data": {
      "text/plain": [
       "array([[ 2,  3,  4],\n",
       "       [ 5,  6,  7],\n",
       "       [ 8,  9, 10]])"
      ]
     },
     "execution_count": 45,
     "metadata": {},
     "output_type": "execute_result"
    }
   ],
   "source": [
    "import numpy as np\n",
    "arr= np.arange(2,11)\n",
    "\n",
    "print(arr)\n",
    "\n",
    "ar = arr.reshape((3,3))\n",
    "ar"
   ]
  },
  {
   "cell_type": "code",
   "execution_count": null,
   "id": "4e878700",
   "metadata": {},
   "outputs": [],
   "source": []
  },
  {
   "cell_type": "code",
   "execution_count": 46,
   "id": "67c614a7",
   "metadata": {},
   "outputs": [],
   "source": [
    "#2. Create a numpy array having user input values and convert the integer type to the float type\n",
    "#of the elements of the array. For instance:\n",
    "#Original array\n",
    "#[1, 2, 3, 4]\n",
    "#Array converted to a float type:\n",
    "#[ 1. 2. 3. 4.]\n"
   ]
  },
  {
   "cell_type": "code",
   "execution_count": 103,
   "id": "82186d55",
   "metadata": {},
   "outputs": [
    {
     "name": "stdout",
     "output_type": "stream",
     "text": [
      "enter the no.5\n",
      "enter no  3\n",
      "enter no  4\n",
      "enter no  6\n",
      "enter no  7\n",
      "enter no  8\n",
      "[3, 4, 6, 7, 8]\n",
      "[3.0, 4.0, 6.0, 7.0, 8.0]\n"
     ]
    }
   ],
   "source": [
    "import numpy as np\n",
    "arr1 = []\n",
    "floatArr = []\n",
    "\n",
    "array1 =int( input(\"enter the no.\"))\n",
    "\n",
    "for i in range( array1):\n",
    "    \n",
    "    arr2  = int(input(\"enter no  \" ))\n",
    "    arr1.append(arr2)\n",
    "    \n",
    "print(arr1)\n",
    "\n",
    "for n in arr1:\n",
    "    floatArr.append(float(n))\n",
    "\n",
    "print(floatArr)\n",
    "\n"
   ]
  },
  {
   "cell_type": "code",
   "execution_count": null,
   "id": "e66d23cd",
   "metadata": {},
   "outputs": [],
   "source": []
  },
  {
   "cell_type": "code",
   "execution_count": null,
   "id": "d7395b4d",
   "metadata": {},
   "outputs": [],
   "source": [
    "#3. Write a Numpy program to append values to the end of an array. For instance:\n",
    "#Original array:\n",
    "#[10, 20, 30]\n",
    "#After append values to the end of the array:\n",
    "#[10 20 30 40 50 60 70 80 90]"
   ]
  },
  {
   "cell_type": "code",
   "execution_count": null,
   "id": "716c2e8f",
   "metadata": {},
   "outputs": [],
   "source": []
  },
  {
   "cell_type": "code",
   "execution_count": 82,
   "id": "164f7bef",
   "metadata": {},
   "outputs": [
    {
     "name": "stdout",
     "output_type": "stream",
     "text": [
      "[10, 20, 30, 40, 50, 60, 70, 80, 90]\n"
     ]
    }
   ],
   "source": [
    "import numpy as np\n",
    "a = [10,20,30]\n",
    "a.extend([40,50,60,70,80,90])\n",
    "print(a)"
   ]
  },
  {
   "cell_type": "code",
   "execution_count": null,
   "id": "a4b9845f",
   "metadata": {},
   "outputs": [],
   "source": []
  },
  {
   "cell_type": "code",
   "execution_count": null,
   "id": "810e9f0d",
   "metadata": {},
   "outputs": [],
   "source": [
    "# 4.Create two numpy arrays and add the elements of both the arrays and store the result in sumArray."
   ]
  },
  {
   "cell_type": "code",
   "execution_count": 91,
   "id": "c55e5013",
   "metadata": {},
   "outputs": [
    {
     "data": {
      "text/plain": [
       "array([ 5,  7,  9, 11])"
      ]
     },
     "execution_count": 91,
     "metadata": {},
     "output_type": "execute_result"
    }
   ],
   "source": [
    "import numpy as np\n",
    "\n",
    "a = np.array([1,2,3,4])\n",
    "b = np.array([4,5,6,7])\n",
    "sumarray= np.add(a, b)\n",
    "sumarray"
   ]
  },
  {
   "cell_type": "code",
   "execution_count": null,
   "id": "d407d743",
   "metadata": {},
   "outputs": [],
   "source": [
    "#5. Create a 3*3 array having values from 10-90(interval of 10) and store that in array1. Perform the following tasks:\n",
    "    #a. Extract the 1st row from the array.\n",
    "    #b. Extract the last element from the array."
   ]
  },
  {
   "cell_type": "code",
   "execution_count": 100,
   "id": "6e1dbf67",
   "metadata": {},
   "outputs": [
    {
     "name": "stdout",
     "output_type": "stream",
     "text": [
      "[[10 20 30]\n",
      " [40 50 60]\n",
      " [70 80 90]]\n"
     ]
    }
   ],
   "source": [
    "import numpy as np\n",
    "s = np.arange(10,91,10)\n",
    "array1 = s.reshape(3,3)\n",
    "print(array1)\n",
    "\n"
   ]
  },
  {
   "cell_type": "code",
   "execution_count": 99,
   "id": "04171557",
   "metadata": {},
   "outputs": [
    {
     "data": {
      "text/plain": [
       "array([[70, 80, 90]])"
      ]
     },
     "execution_count": 99,
     "metadata": {},
     "output_type": "execute_result"
    }
   ],
   "source": [
    "array1[2:3,:]"
   ]
  },
  {
   "cell_type": "code",
   "execution_count": 101,
   "id": "6f6ac36f",
   "metadata": {},
   "outputs": [
    {
     "data": {
      "text/plain": [
       "array([[90]])"
      ]
     },
     "execution_count": 101,
     "metadata": {},
     "output_type": "execute_result"
    }
   ],
   "source": [
    "array1[2:3,2:3]"
   ]
  },
  {
   "cell_type": "code",
   "execution_count": null,
   "id": "11184457",
   "metadata": {},
   "outputs": [],
   "source": []
  }
 ],
 "metadata": {
  "kernelspec": {
   "display_name": "Python 3 (ipykernel)",
   "language": "python",
   "name": "python3"
  },
  "language_info": {
   "codemirror_mode": {
    "name": "ipython",
    "version": 3
   },
   "file_extension": ".py",
   "mimetype": "text/x-python",
   "name": "python",
   "nbconvert_exporter": "python",
   "pygments_lexer": "ipython3",
   "version": "3.9.12"
  }
 },
 "nbformat": 4,
 "nbformat_minor": 5
}
