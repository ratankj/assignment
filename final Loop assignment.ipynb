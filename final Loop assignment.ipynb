{
 "cells": [
  {
   "cell_type": "markdown",
   "id": "0419d7bb",
   "metadata": {},
   "source": [
    "# loop assignment"
   ]
  },
  {
   "cell_type": "code",
   "execution_count": null,
   "id": "35504da8",
   "metadata": {},
   "outputs": [],
   "source": []
  },
  {
   "cell_type": "code",
   "execution_count": null,
   "id": "d2c79a3b",
   "metadata": {},
   "outputs": [],
   "source": [
    "#print the no. 1 to 10 using while loop"
   ]
  },
  {
   "cell_type": "code",
   "execution_count": 7,
   "id": "87dbbc7e",
   "metadata": {},
   "outputs": [
    {
     "name": "stdout",
     "output_type": "stream",
     "text": [
      "1\n",
      "2\n",
      "3\n",
      "4\n",
      "5\n",
      "6\n",
      "7\n",
      "8\n",
      "9\n",
      "10\n"
     ]
    }
   ],
   "source": [
    "\n",
    "a= 1\n",
    "while (a < 11):\n",
    "    print(a)\n",
    "    \n",
    "    a= a+1\n",
    "    "
   ]
  },
  {
   "cell_type": "code",
   "execution_count": null,
   "id": "10284f71",
   "metadata": {},
   "outputs": [],
   "source": []
  },
  {
   "cell_type": "code",
   "execution_count": null,
   "id": "72521a30",
   "metadata": {},
   "outputs": [],
   "source": [
    "#Create a list that is having 10,23,4,26,4,75,24,54 values and with the help of while loop, fetch\n",
    "#he even numbers and print the numbers."
   ]
  },
  {
   "cell_type": "code",
   "execution_count": 11,
   "id": "fc669fad",
   "metadata": {},
   "outputs": [
    {
     "name": "stdout",
     "output_type": "stream",
     "text": [
      "10\n",
      "4\n",
      "26\n",
      "4\n",
      "24\n",
      "54\n"
     ]
    }
   ],
   "source": [
    "x = [10,23,4,26,4,75,24,54]\n",
    "index = 0\n",
    "while index < len(x):\n",
    "    if x[index] % 2 ==0:\n",
    "        print(x[index])\n",
    "    \n",
    "    index = index+1\n",
    "     \n"
   ]
  },
  {
   "cell_type": "code",
   "execution_count": null,
   "id": "df9c4fe7",
   "metadata": {},
   "outputs": [],
   "source": [
    "#Create an array that is having user defined inputs and with the help of for loop, fetch all the prime\n",
    "#numbers and print the numbers.\n"
   ]
  },
  {
   "cell_type": "code",
   "execution_count": 2,
   "id": "a43ce99d",
   "metadata": {},
   "outputs": [
    {
     "name": "stdout",
     "output_type": "stream",
     "text": [
      "how many no. u want to enter (ex. 1,2,3.....) 3\n",
      "enter no.2\n",
      "enter no.3\n",
      "enter no.4\n",
      "[2, 3, 4]\n",
      "list of prime number: [2, 3]\n"
     ]
    }
   ],
   "source": [
    "#user defined input , find the prime no. or not\n",
    "\n",
    "array_num = []\n",
    "array_prime = []\n",
    "nums = int(input(\"how many no. u want to enter (ex. 1,2,3.....) \"  ))\n",
    "for x in range (0,nums):\n",
    "    num1 = int(input(\"enter no.\"))\n",
    "    array_num.append(num1)\n",
    "print(array_num)\n",
    "\n",
    "\n",
    "for x in range(0,len(array_num)):\n",
    "    #print(5%1)\n",
    "    val = array_num[x]\n",
    "    if val ==2 or val == 3:\n",
    "        array_prime.append(val)\n",
    "    if val > 3:\n",
    "        for i in range(2, int(val/2)+1):\n",
    "            if (val % i) == 0:\n",
    "                #print(val, \"is not a prime number\")\n",
    "                break\n",
    "            else:\n",
    "                #print(val, \"is a prime number\")\n",
    "                array_prime.append(val)\n",
    "                break\n",
    "        \n",
    "print('list of prime number:', array_prime)"
   ]
  },
  {
   "cell_type": "code",
   "execution_count": null,
   "id": "8dd7a6e3",
   "metadata": {},
   "outputs": [],
   "source": []
  },
  {
   "cell_type": "code",
   "execution_count": null,
   "id": "dca26830",
   "metadata": {},
   "outputs": [],
   "source": []
  }
 ],
 "metadata": {
  "kernelspec": {
   "display_name": "Python 3 (ipykernel)",
   "language": "python",
   "name": "python3"
  },
  "language_info": {
   "codemirror_mode": {
    "name": "ipython",
    "version": 3
   },
   "file_extension": ".py",
   "mimetype": "text/x-python",
   "name": "python",
   "nbconvert_exporter": "python",
   "pygments_lexer": "ipython3",
   "version": "3.9.12"
  }
 },
 "nbformat": 4,
 "nbformat_minor": 5
}
