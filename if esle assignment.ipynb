{
 "cells": [
  {
   "cell_type": "markdown",
   "id": "f2aa1096",
   "metadata": {},
   "source": [
    "# if - else assignment"
   ]
  },
  {
   "cell_type": "code",
   "execution_count": 1,
   "id": "4b29ca02",
   "metadata": {},
   "outputs": [],
   "source": [
    "# 1. # input the values of a and b as 10 AND 20 respectively. now check if a is greater or b is greater using if condition.\n",
    "# think about all the edge cases and print the statement accordingly"
   ]
  },
  {
   "cell_type": "code",
   "execution_count": 2,
   "id": "cb1f530c",
   "metadata": {},
   "outputs": [
    {
     "name": "stdout",
     "output_type": "stream",
     "text": [
      "20 -->B : is greater\n"
     ]
    }
   ],
   "source": [
    "a = 10\n",
    "b = 20\n",
    "if (a>b):\n",
    "    print(a, \"-->A : is greater\")\n",
    "else:\n",
    "    print(b, \"-->B : is greater\")"
   ]
  },
  {
   "cell_type": "code",
   "execution_count": null,
   "id": "c8a26ff6",
   "metadata": {},
   "outputs": [],
   "source": []
  },
  {
   "cell_type": "code",
   "execution_count": null,
   "id": "a7ec47be",
   "metadata": {},
   "outputs": [],
   "source": []
  },
  {
   "cell_type": "code",
   "execution_count": 3,
   "id": "c85a1474",
   "metadata": {},
   "outputs": [],
   "source": [
    "# 2. take 3 user input and print the greatest no from those input using if-else condition. edge case if any, should be handled"
   ]
  },
  {
   "cell_type": "code",
   "execution_count": 9,
   "id": "a8094e75",
   "metadata": {},
   "outputs": [
    {
     "name": "stdout",
     "output_type": "stream",
     "text": [
      "enter first no.\n",
      "65454\n",
      "enter second no.\n",
      "43\n",
      "enter third no.\n",
      "7\n",
      "a is greatest\n"
     ]
    }
   ],
   "source": [
    "a = int(input(\"enter first no.\\n\"))\n",
    "b = int(input(\"enter second no.\\n\"))\n",
    "c = int(input(\"enter third no.\\n\"))\n",
    "if (a>b and a>c):\n",
    "    print(\"a is greatest\")\n",
    "    \n",
    "elif(b>a and b>c):\n",
    "    print(\"b is greatest\")\n",
    "else:\n",
    "    print(\"c is greatest\")\n",
    "    "
   ]
  },
  {
   "cell_type": "code",
   "execution_count": null,
   "id": "fea706a7",
   "metadata": {},
   "outputs": [],
   "source": []
  },
  {
   "cell_type": "code",
   "execution_count": null,
   "id": "0441ddc3",
   "metadata": {},
   "outputs": [],
   "source": []
  }
 ],
 "metadata": {
  "kernelspec": {
   "display_name": "Python 3 (ipykernel)",
   "language": "python",
   "name": "python3"
  },
  "language_info": {
   "codemirror_mode": {
    "name": "ipython",
    "version": 3
   },
   "file_extension": ".py",
   "mimetype": "text/x-python",
   "name": "python",
   "nbconvert_exporter": "python",
   "pygments_lexer": "ipython3",
   "version": "3.9.12"
  }
 },
 "nbformat": 4,
 "nbformat_minor": 5
}
